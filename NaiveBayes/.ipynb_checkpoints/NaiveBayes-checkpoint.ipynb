{
 "cells": [
  {
   "cell_type": "markdown",
   "metadata": {},
   "source": [
    "# 朴素贝叶斯"
   ]
  },
  {
   "cell_type": "markdown",
   "metadata": {},
   "source": [
    "连续数据，特征的可能性被假设为高斯概率密度函数：\n",
    "$$P(x_i | y_k)=\\frac{1}{\\sqrt{2\\pi}\\sigma_{yk}}exp(-\\frac{(x_i-\\mu_{yk})^2}{2\\sigma^2_{yk}})$$\n",
    "\n",
    "数学期望(mean)：$\\mu$，方差：$\\sigma^2=\\frac{\\sum(X-\\mu)^2}{N}$"
   ]
  },
  {
   "cell_type": "markdown",
   "metadata": {},
   "source": [
    "## 算法\n",
    "1. 计算先验概率 $$P(Y=c_k)=\\frac{\\sum_{i=1}^{N} I(y_i = c_k)}{N}  , k = 1,2,...,K$$\n",
    "\n",
    "2. 计算条件概率：按label类别计算第$l$个特征取第j个值时候的概率 $$P(X^{(j)} =x ^ {(j)} | Y=c_k), k = 1,2,...,K$$\n",
    "\n",
    "3. 计算后验概率：$$P(Y=c_k|X=x)=P(X=c_k)\\prod_{i=1}^{N} (y=c_k|x=x_i)$$\n",
    "\n",
    "4. 选择后验概率最大的$c_k$\n",
    "\n",
    "-----\n",
    "\n",
    "在**高斯朴素贝叶斯分类器**算法过程中条件概率为$$P(x^{(j)} | y_k)=\\frac{1}{\\sqrt{2\\pi}\\sigma_{yk}}exp(-\\frac{(x^{(j)}-\\mu_{yk})^2}{2\\sigma^2_{yk}})$$\n",
    "\n",
    "\n",
    "即首先按label重新排列数据。分别求出每个label $c_k$中，每个特征的均值$\\mu_{yk}$、标准差$\\sigma_{yk}$参数。用于后续后验概率的计算"
   ]
  },
  {
   "cell_type": "code",
   "execution_count": 1,
   "metadata": {},
   "outputs": [],
   "source": [
    "import numpy as np\n",
    "import pandas as pd\n",
    "import matplotlib.pyplot as plt\n",
    "import math\n",
    "\n",
    "from sklearn.datasets import load_iris\n",
    "from sklearn.model_selection import train_test_split\n",
    "from collections import Counter"
   ]
  },
  {
   "cell_type": "code",
   "execution_count": 2,
   "metadata": {},
   "outputs": [],
   "source": [
    "class GaussNaiveBayes:\n",
    "    def __init__(self):\n",
    "        self.model = None\n",
    "        self.prior_probability = {} #先验概率\n",
    "        \n",
    "    def mean(self,x):\n",
    "        return sum(x)/ float(len(x))\n",
    "    \n",
    "    def stdev(self, X):\n",
    "        avg = self.mean(X)\n",
    "        return math.sqrt(sum([pow(x-avg, 2) for x in X]) / float(len(X)))\n",
    "        \n",
    "    \n",
    "    # 高斯概率密度函数\n",
    "    def gaussian_probability(self, x, mean, stdev):\n",
    "        exp = math.exp(-(math.pow(x - mean, 2)/(2* math.pow(stdev,2))))\n",
    "        return exp/(math.sqrt(2* math.pi) * stdev)\n",
    "    \n",
    "    \n",
    "    \n",
    "    # 计算条件概率的标准差、方差\n",
    "    def fit(self,X,Y):\n",
    "        label_num = list(set(Y)) #类别的列表\n",
    "        data = {label:[] for label in label_num}  #字典，类别->属于该类别的数据\n",
    "        self.model = {label:[] for label in label_num}\n",
    "        \n",
    "        for x, label in zip(X,Y):\n",
    "            data[label].append(x)\n",
    "        \n",
    "        for label, value in data.items():\n",
    "            for i in zip(*value):    #将矩阵转置，这样i表示原来的一列，即某个特征的所有数据\n",
    "                self.model[label].append((self.mean(i),self.stdev(i)))     #每个特征的均值，标准差           \n",
    "            self.prior_probability[label] =  len(self.model[label])/len(X) #先验概率        \n",
    "        \n",
    "        return 'GaussNaiveBayes model trafin done'\n",
    "                                  \n",
    "    # 计算后验概率\n",
    "    def calculate_probability(self, x_test):\n",
    "        post_probability = { key: 1 for key in self.model.keys()}\n",
    "        \n",
    "        for label, para in self.model.items():\n",
    "            for j in range(len(para)): \n",
    "                mean, stdev = para[j] #ck条件下，第j个特征的均值、标准差\n",
    "                post_probability[label] *= self.gaussian_probability(x_test[j],mean ,stdev) #条件概率乘积\n",
    "            post_probability[label] *= self.prior_probability[label] #乘对应的先验概率，得到后验概率\n",
    "        \n",
    "        return post_probability\n",
    "            \n",
    "                \n",
    "    def predict(self, x):\n",
    "        probility = self.calculate_probability(x)\n",
    "        return (max(probility.items(), key=lambda y:y[1]))[0] #后验概率最大的类别\n",
    "        \n",
    "    \n",
    "    def score(self, X_test, Y_test):\n",
    "        right_count = 0\n",
    "        for x, y in zip(X_test,Y_test):\n",
    "            y_predict = self.predict(x)\n",
    "            if y_predict == y:\n",
    "                right_count += 1\n",
    "        return right_count / len(X_test)\n",
    "    "
   ]
  },
  {
   "cell_type": "code",
   "execution_count": 3,
   "metadata": {},
   "outputs": [],
   "source": [
    "# Load data\n",
    "iris = load_iris()\n",
    "df = pd.DataFrame(iris.data, columns=iris.feature_names)\n",
    "df['label'] = iris.target\n",
    "df.columns = ['sepal length', 'sepal width', 'petal length', 'petal width', 'label']\n",
    "data = np.array(df.iloc[:100,[0,1,-1]])\n",
    "X, Y = data[:,:-1], data[:,-1]\n",
    "# 避免过拟合，采用交叉验证，随机选取33%数据作为测试集，剩余为训练集 \n",
    "X_train, X_test, Y_train, Y_test = train_test_split(X, Y, test_size=0.33, random_state=0) "
   ]
  },
  {
   "cell_type": "code",
   "execution_count": 4,
   "metadata": {},
   "outputs": [
    {
     "data": {
      "text/plain": [
       "'GaussNaiveBayes model trafin done'"
      ]
     },
     "execution_count": 4,
     "metadata": {},
     "output_type": "execute_result"
    }
   ],
   "source": [
    "nb = GaussNaiveBayes()\n",
    "nb.fit(X_train,Y_train)"
   ]
  },
  {
   "cell_type": "code",
   "execution_count": 5,
   "metadata": {},
   "outputs": [
    {
     "name": "stdout",
     "output_type": "stream",
     "text": [
      "0.0\n",
      "1.0\n"
     ]
    }
   ],
   "source": [
    "print(nb.predict([4.4,  3.2]))\n",
    "print(nb.predict([1.3,  0.2]))"
   ]
  },
  {
   "cell_type": "code",
   "execution_count": 6,
   "metadata": {},
   "outputs": [
    {
     "data": {
      "text/plain": [
       "1.0"
      ]
     },
     "execution_count": 6,
     "metadata": {},
     "output_type": "execute_result"
    }
   ],
   "source": [
    "nb.score(X_test,Y_test)"
   ]
  },
  {
   "cell_type": "markdown",
   "metadata": {},
   "source": [
    "# sklearn.naive_bayes"
   ]
  },
  {
   "cell_type": "code",
   "execution_count": 9,
   "metadata": {},
   "outputs": [],
   "source": [
    "from sklearn.naive_bayes import GaussianNB"
   ]
  },
  {
   "cell_type": "code",
   "execution_count": 10,
   "metadata": {},
   "outputs": [
    {
     "data": {
      "text/plain": [
       "GaussianNB(priors=None)"
      ]
     },
     "execution_count": 10,
     "metadata": {},
     "output_type": "execute_result"
    }
   ],
   "source": [
    "clf = GaussianNB()\n",
    "clf.fit(X_train, Y_train)"
   ]
  },
  {
   "cell_type": "code",
   "execution_count": 11,
   "metadata": {},
   "outputs": [
    {
     "data": {
      "text/plain": [
       "1.0"
      ]
     },
     "execution_count": 11,
     "metadata": {},
     "output_type": "execute_result"
    }
   ],
   "source": [
    "clf.score(X_test, Y_test)"
   ]
  },
  {
   "cell_type": "code",
   "execution_count": 12,
   "metadata": {},
   "outputs": [
    {
     "data": {
      "text/plain": [
       "array([0., 1.])"
      ]
     },
     "execution_count": 12,
     "metadata": {},
     "output_type": "execute_result"
    }
   ],
   "source": [
    "clf.predict([[4.4,  3.2],[1.3,  0.2]])"
   ]
  },
  {
   "cell_type": "code",
   "execution_count": null,
   "metadata": {},
   "outputs": [],
   "source": []
  }
 ],
 "metadata": {
  "kernelspec": {
   "display_name": "Python 3",
   "language": "python",
   "name": "python3"
  },
  "language_info": {
   "codemirror_mode": {
    "name": "ipython",
    "version": 3
   },
   "file_extension": ".py",
   "mimetype": "text/x-python",
   "name": "python",
   "nbconvert_exporter": "python",
   "pygments_lexer": "ipython3",
   "version": "3.6.4"
  }
 },
 "nbformat": 4,
 "nbformat_minor": 2
}
