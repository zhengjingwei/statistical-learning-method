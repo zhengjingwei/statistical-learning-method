{
 "cells": [
  {
   "cell_type": "markdown",
   "metadata": {},
   "source": [
    "# K近邻 (k-nearest neighbor,k-NN)"
   ]
  },
  {
   "cell_type": "markdown",
   "metadata": {},
   "source": [
    "距离度量\n",
    "$L_{p}(x_i,x_j)=(\\sum_{l=1}^{n} \\left  | x_{i}^{(l)}-x_{j}^{(l)} \\right |)^(\\frac{1}{p})$\n",
    "\n",
    "- p = 1 曼哈顿距离\n",
    "- p = 2 欧氏距离\n",
    "- p = $\\infty$  闵式距离minkowski_distance "
   ]
  },
  {
   "cell_type": "code",
   "execution_count": 1,
   "metadata": {},
   "outputs": [],
   "source": [
    "import math\n",
    "from collections import Counter"
   ]
  },
  {
   "cell_type": "code",
   "execution_count": 2,
   "metadata": {},
   "outputs": [],
   "source": [
    "def L(x, y, p=2):\n",
    "    if len(x)==len(y) and len(x)>1:\n",
    "        sum = 0\n",
    "        for i in range(len(x)):\n",
    "            sum += math.pow(abs(x[i]-y[i]),p)\n",
    "        return math.pow(sum,1/p)\n",
    "    else:\n",
    "        return 0"
   ]
  },
  {
   "cell_type": "markdown",
   "metadata": {},
   "source": [
    "## 算法\n",
    "遍历所有数据点，找到距离最近的K个点的分类情况，少数服从多数\n",
    "\n"
   ]
  },
  {
   "cell_type": "code",
   "execution_count": 3,
   "metadata": {},
   "outputs": [],
   "source": [
    "class KNN:\n",
    "    def __init__(self, X_train, Y_train, n_neighbor = 4, p=2):\n",
    "        knn_list = []\n",
    "        self.k = n_neighbor # K值\n",
    "        self.p = 2\n",
    "        self.X_train = X_train\n",
    "        self.Y_train = Y_train\n",
    "    \n",
    "    def predict(self,X):\n",
    "        knn_list = [] # 当前k个最近邻居\n",
    "        \n",
    "        # 取出k个点\n",
    "        for i in range(self.k):\n",
    "            dis = np.linalg.norm(X - X_train[i],ord=self.p)\n",
    "            knn_list.append((dis, self.Y_train[i]))\n",
    "        \n",
    "        # 遍历剩余n-k个点，更新最近k个点\n",
    "        for i in range(self.k, len(self.X_train)):\n",
    "            max_index = knn_list.index(max(knn_list, key=lambda x:x[0])) # 当前k个点中距离最远的点在列表中的下标\n",
    "            dis = np.linalg.norm(abs(X - self.X_train[i]), ord = self.p)\n",
    "            if dis < knn_list[max_index][0]:\n",
    "                knn_list[max_index] = (dis, self.Y_train[i])\n",
    "        \n",
    "        # 多数判决\n",
    "        knn = [k[-1] for k in knn_list]\n",
    "        counter = Counter(knn)\n",
    "        most_common = counter.most_common(1) #出现次数最多的类别\n",
    "        return most_common[0][0]\n",
    "        \n",
    "    def score(self, X_test, Y_test):\n",
    "        right_count = 0\n",
    "        for x, y in zip(X_test,Y_test):\n",
    "            y_predict = self.predict(x)\n",
    "            if y_predict == y:\n",
    "                right_count += 1\n",
    "        return right_count / len(X_test)            "
   ]
  },
  {
   "cell_type": "code",
   "execution_count": 4,
   "metadata": {},
   "outputs": [],
   "source": [
    "import numpy as np\n",
    "import pandas as pd\n",
    "import matplotlib.pyplot as plt\n",
    "from sklearn.datasets import load_iris\n",
    "from sklearn.model_selection import train_test_split"
   ]
  },
  {
   "cell_type": "code",
   "execution_count": 5,
   "metadata": {},
   "outputs": [],
   "source": [
    "# Load data\n",
    "iris = load_iris()\n",
    "df = pd.DataFrame(iris.data, columns=iris.feature_names)\n",
    "df['label'] = iris.target\n",
    "df.columns = ['sepal length', 'sepal width', 'petal length', 'petal width', 'label']\n",
    "data = np.array(df.iloc[:100,[0,1,-1]])\n",
    "X, Y = data[:,:-1], data[:,-1]\n",
    "# 避免过拟合，采用交叉验证，随机选取33%数据作为测试集，剩余为训练集 \n",
    "X_train, X_test, Y_train, Y_test = train_test_split(X, Y, test_size=0.33, random_state=0) "
   ]
  },
  {
   "cell_type": "code",
   "execution_count": 6,
   "metadata": {},
   "outputs": [
    {
     "data": {
      "text/plain": [
       "1.0"
      ]
     },
     "execution_count": 6,
     "metadata": {},
     "output_type": "execute_result"
    }
   ],
   "source": [
    "knn = KNN(X_train, Y_train)\n",
    "knn.score(X_test,Y_test)"
   ]
  },
  {
   "cell_type": "code",
   "execution_count": 7,
   "metadata": {},
   "outputs": [
    {
     "name": "stdout",
     "output_type": "stream",
     "text": [
      "test_point:0.0\n"
     ]
    }
   ],
   "source": [
    "test_point = [5,3]\n",
    "print('test_point:{}'.format(knn.predict(test_point)))"
   ]
  },
  {
   "cell_type": "code",
   "execution_count": 8,
   "metadata": {},
   "outputs": [
    {
     "data": {
      "text/plain": [
       "<matplotlib.legend.Legend at 0x27e11c77b70>"
      ]
     },
     "execution_count": 8,
     "metadata": {},
     "output_type": "execute_result"
    },
    {
     "data": {
      "image/png": "[encoded data removed]",
      "text/plain": [
       "<matplotlib.figure.Figure at 0x27e11b82ba8>"
      ]
     },
     "metadata": {},
     "output_type": "display_data"
    }
   ],
   "source": [
    "plt.scatter(df[:50]['sepal length'],df[:50]['sepal width'],label='0')\n",
    "plt.scatter(df[50:100]['sepal length'],df[50:100]['sepal width'],label='1')\n",
    "plt.plot(test_point[0],test_point[1],'ro',label='test_point')\n",
    "plt.xlabel('sepal length')\n",
    "plt.ylabel('sepal width')\n",
    "plt.legend()"
   ]
  },
  {
   "cell_type": "markdown",
   "metadata": {},
   "source": [
    "# sklearn"
   ]
  },
  {
   "cell_type": "code",
   "execution_count": 9,
   "metadata": {},
   "outputs": [],
   "source": [
    "from sklearn.neighbors import KNeighborsClassifier"
   ]
  },
  {
   "cell_type": "code",
   "execution_count": 10,
   "metadata": {},
   "outputs": [
    {
     "data": {
      "text/plain": [
       "KNeighborsClassifier(algorithm='auto', leaf_size=30, metric='minkowski',\n",
       "           metric_params=None, n_jobs=1, n_neighbors=5, p=2,\n",
       "           weights='uniform')"
      ]
     },
     "execution_count": 10,
     "metadata": {},
     "output_type": "execute_result"
    }
   ],
   "source": [
    "clf_knn = KNeighborsClassifier()\n",
    "clf_knn.fit(X_train, Y_train)"
   ]
  },
  {
   "cell_type": "code",
   "execution_count": 11,
   "metadata": {},
   "outputs": [
    {
     "data": {
      "text/plain": [
       "1.0"
      ]
     },
     "execution_count": 11,
     "metadata": {},
     "output_type": "execute_result"
    }
   ],
   "source": [
    "clf_knn.score(X_test, Y_test)"
   ]
  },
  {
   "cell_type": "code",
   "execution_count": null,
   "metadata": {},
   "outputs": [],
   "source": []
  }
 ],
 "metadata": {
  "kernelspec": {
   "display_name": "Python 3",
   "language": "python",
   "name": "python3"
  },
  "language_info": {
   "codemirror_mode": {
    "name": "ipython",
    "version": 3
   },
   "file_extension": ".py",
   "mimetype": "text/x-python",
   "name": "python",
   "nbconvert_exporter": "python",
   "pygments_lexer": "ipython3",
   "version": "3.6.4"
  }
 },
 "nbformat": 4,
 "nbformat_minor": 2
}
